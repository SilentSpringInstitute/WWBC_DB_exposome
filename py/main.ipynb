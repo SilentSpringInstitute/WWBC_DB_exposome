{
 "cells": [
  {
   "cell_type": "markdown",
   "metadata": {},
   "source": [
    "# Notebook to realize Non-target analysis for FF and Nurses\n",
    "Set of scripts to realize the Non target analysis with the Women Worker Biomonitoring Chemical Database (WWDB) for nurses and Firefighter"
   ]
  },
  {
   "cell_type": "code",
   "execution_count": 1,
   "metadata": {},
   "outputs": [],
   "source": [
    "from os import path\n",
    "\n",
    "# probably need to import in step not globally\n",
    "from prepForFrag import prepForFrag\n",
    "from WWBC_database import WWBC_database, matchChemicals\n",
    "from toolbox import pathFolder, toolbox\n",
    "from filterAnnotation import filterAnnotation\n",
    "from mapAfterFrag import mapAfterFrag\n",
    "from checkPoint import checkDB, checkTable\n",
    "from confirmFrag import confirmFrag\n",
    "\n",
    "# define path #\n",
    "#################\n",
    "PR_ROOT = path.abspath(\"../../\") + \"/\"\n",
    "PR_DATA = PR_ROOT + \"data/\"\n",
    "PR_RESULTS = pathFolder.createFolder(PR_ROOT + \"results/\")"
   ]
  },
  {
   "cell_type": "markdown",
   "metadata": {},
   "source": [
    "## 1. Step1: Women Worker Biomonitoring Chemical Database Development (v.2)"
   ]
  },
  {
   "cell_type": "markdown",
   "metadata": {},
   "source": [
    "### 1.1. Initialization"
   ]
  },
  {
   "cell_type": "code",
   "execution_count": 2,
   "metadata": {},
   "outputs": [],
   "source": [
    "# SET CRITERIA #\n",
    "################\n",
    "minMW = 100\n",
    "maxMW = 1000\n",
    "lipinski_violation = 3\n",
    "list_chemicals_metabolite = [\"Drug_UCSF_PXYS\", \"Drug_most comon and haz\", \"Disinfectant\", \"FRs\", \"PFAS\", \"MC\", \"MGDev\", \"ERactive_bin\", \"E2Up_bin\", \"P4Up_bin\", \"pesticidemammarytumors_bin\", \"nitroPAH_bin\", \"pellizzari_bin\", \"phthalate\"]\n",
    "\n",
    "# SET FILES USE IN INPUT #\n",
    "##########################\n",
    "p_UCSF_Haz_Drugs_Inventory = PR_DATA + \"buildDB/UCSF_Haz_Drugs Inventory_FINAL 2_2018_wDTSXIDs.csv\"\n",
    "p_drug_in_survey = PR_DATA + \"buildDB/nurses_otherdrugs_rar_10272021.csv\"\n",
    "p_WWBC_v1 = PR_DATA + \"buildDB/WWBC_MS_database_10.28.21.csv\""
   ]
  },
  {
   "cell_type": "markdown",
   "metadata": {},
   "source": [
    "### 1.2. Prepare WWBC"
   ]
  },
  {
   "cell_type": "code",
   "execution_count": 4,
   "metadata": {},
   "outputs": [
    {
     "name": "stdout",
     "output_type": "stream",
     "text": [
      "WWDB ready for mapping\n",
      "Path: /mnt/c/Users/AlexandreBorrel/research/SSI/NTA/results/WWBC_MS_database_10.28.21_prepForAnotation.csv\n"
     ]
    }
   ],
   "source": [
    "# RUN - PREPARE WWBC database #\n",
    "###############################\n",
    "l_d_fileToMap = [{\"pfile\":p_UCSF_Haz_Drugs_Inventory, \"headertoMap\": \"DTXSID (CompTox)\", \"addCol\": \"UCSF_haz_drug\"}, {\"pfile\":PR_DATA + p_drug_in_survey, \"headertoMap\":\"DTSXID (from wwbc database plus other sources)\", \"addCol\": \"Survey_drug\"}]\n",
    "name_DB = \"WWBC_MS_database_10.28.21\"\n",
    "c_db = WWBC_database.WWBC_database(p_WWBC_v1, minMW, maxMW, lipinski_violation, list_chemicals_metabolite, PR_RESULTS, l_d_fileToMap, name_DB)\n",
    "p_WWBC_v2 = c_db.main()\n",
    "\n",
    "print(\"WWDB ready for mapping\")\n",
    "print(\"Path:\", p_WWBC_v2)"
   ]
  },
  {
   "cell_type": "markdown",
   "metadata": {},
   "source": [
    "### 1.3. Check WWBC"
   ]
  },
  {
   "cell_type": "code",
   "execution_count": null,
   "metadata": {},
   "outputs": [],
   "source": [
    "# CHECK WWBC - control if some chemicals are properly included in the WWWBC #\n",
    "############################################################################# \n",
    "\n",
    "# create folder to check\n",
    "pr_checkpoint = pathFolder.createFolder(PR_RESULTS + \"CHECKPOINT_step1_WWBC/\")\n",
    "#p_out = \"/mnt/c/Users/AlexandreBorrel/research/SSI/NTA/results/check/chem_in_DB.txt\"\n",
    "\n",
    "l_DTXID_tocheck = [\"DTXSID1022556\", \"DTXSID9022601\",\"DTXSID9020116\",\"DTXSID3020910\",\"DTXSID3046742\",\"DTXSID4024983\",\"DTXSID1022845\",\"DTXSID5020364\",\"DTXSID0020365\",\"DTXSID3022877\",\"DTXSID5020364\",\"DTXSID7022883\",\"DTXSID70227388\",\"DTXSID2021735\",\"DTXSID8021480\",\"DTXSID1020562\",\"DTXSID5023035\",\"DTXSID9023049\",\"DTXSID3020625\",\"DTXSID4039657\",\"DTXSID2020634\",\"DTXSID9044299\",\"DTXSID6020648\",\"DTXSID8041032\",\"DTXSID4034150\",\"DTXSID4025371\",\"DTXSID6025438\",\"DTXSID7020760\",\"DTXSID9037664\",\"DTXSID6020804\",\"DTXSID4020822\",\"DTXSID2020892\",\"DTXSID00858942\",\"DTXSID4041070\",\"DTXSID0045703\",\"DTXSID9023413\",\"DTXSID7023431\",\"DTXSID8020541\",\"DTXSID8023135\",\"DTXSID4021185\",\"DTXSID8023557\",\"DTXSID5040910\",\"DTXSID6034186\",\"DTXSID5046354\",\"DTXSID1034187\",\"DTXSID3023631\",\"DTXSID8022371\",\"DTXSID8023688\",\"DTXSID8048288\",\"DTXSID30154863\",\"DTXSID1032278\",\"DTXSID5023742\",\"DTXSID9046023\"]\n",
    "k_search = \"DTXSID\"\n",
    "\n",
    "c_check = checkDB.checkDB(p_WWBC_v2)\n",
    "c_check.searchInDB(k_search, l_DTXID_tocheck, pr_checkpoint + \"chem_in_DB.txt\")"
   ]
  },
  {
   "cell_type": "markdown",
   "metadata": {},
   "source": [
    "## 2. Step 2: Non-targeted LC-QTOF/MSfull scan analysis procedure (and developing the features list)"
   ]
  },
  {
   "cell_type": "code",
   "execution_count": null,
   "metadata": {},
   "outputs": [],
   "source": [
    "### DO not know exactly where it is going -- maybe it is a checking\n",
    "\n",
    "# MAP NURSE RESULTS ON MODE FROM MS\n",
    "p_filin = PR_DATA + \"nurse_drug_selectionRR_10-29-21/all_considered_for_target_N_10_29_21.csv\"\n",
    "# map mode on it\n",
    "p_filout = PR_DATA + \"nurse_drug_selectionRR_10-29-21/all_considered_for_target_N_10_29_21_mappedOnMode.csv\"\n",
    "\n",
    "p_pos =  PR_DATA + \"nurse_drug_selectionRR_10-29-21/List_matched_no_filter_neg_FB_06.21_rar.csv\"\n",
    "p_neg = PR_DATA + \"nurse_drug_selectionRR_10-29-21/List_matched_no_filter_pos_FB_06.21_rar.csv\"\n",
    "\n",
    "\n",
    "d_tomap = [{\"pfile\":p_pos, \"headertoMap\": \"DB_name\", \"addCol\": \"POS mode\"},{\"pfile\":p_neg, \"headertoMap\": \"DB_name\", \"addCol\": \"NEG mode\"} ]\n",
    "toolbox.manualMapping(p_filin, d_tomap, p_filout)"
   ]
  },
  {
   "cell_type": "markdown",
   "metadata": {},
   "source": [
    "## 3. Step 3: Review of features and criteria to select features for fragmentation"
   ]
  },
  {
   "cell_type": "markdown",
   "metadata": {},
   "source": [
    "In this step we processed differently Nurse vs Office worker and Firefighter."
   ]
  },
  {
   "cell_type": "markdown",
   "metadata": {},
   "source": [
    "### 3.1. Initialization"
   ]
  },
  {
   "cell_type": "code",
   "execution_count": 2,
   "metadata": {},
   "outputs": [],
   "source": [
    "# Define path of mapping - after XCMS processing\n",
    "## NURSE\n",
    "### positive mode\n",
    "p_pos_nurse = PR_DATA + \"result_NTA_tofilter/List_matched_no_filter_pos_N_FB_07.21_rar.csv\"\n",
    "### negative mode\n",
    "p_neg_nurse = PR_DATA + \"result_NTA_tofilter/List_matched_no_filter_neg_FB_07.21.csv\"\n",
    "\n",
    "## FF\n",
    "### positive mode\n",
    "p_pos_FF = PR_DATA + \"result_NTA_tofilter/20210716POS_features_FF_limited_filtered.csv\"\n",
    "### negative mode\n",
    "p_neg_FF = PR_DATA + \"result_NTA_tofilter/20210716Neg_features_FF_limited_filtered.csv\"\n",
    "\n"
   ]
  },
  {
   "cell_type": "markdown",
   "metadata": {},
   "source": [
    "### 3.2. Fragmentation for Nurses and Office workers"
   ]
  },
  {
   "cell_type": "markdown",
   "metadata": {},
   "source": [
    "### 3.3. Fragmentation for FF"
   ]
  },
  {
   "cell_type": "code",
   "execution_count": null,
   "metadata": {},
   "outputs": [],
   "source": [
    "# step that match \n",
    "pr_out = pathFolder.createFolder(PR_RESULTS + \"step3_ matchFFwithChemSubstrcuture/\")\n",
    "d_substructures = {\"nitro benzene\":[\"[O-][N+](=O)C1=CC=CC=C1\"], \"nitro\":[\"[O-][N+](=O)C\"], \n",
    "                   \"sulfate\":[\"S(=O)(=O)([O-])C\"], \"aniline\":[\"Nc1ccccc1\"], \"guanidium\":[\"NC(N)=N\"]}\n",
    "\n",
    "# negative mode\n",
    "p_neg_match = PR_DATA + \"match_chemicals/20210501list_matched_NEGfeaturesFF_Priority.xlsx\"\n",
    "c_match = matchChemicals.matchChemicals(p_neg_match, \"NEG_match\",pr_out)\n",
    "c_match.loadChem(\"20210501list_matched_NEGfeature\")\n",
    "c_match.searchSubstructure(d_substructures)\n",
    "\n",
    "\n",
    "# positive mode\n",
    "p_pos_match = PR_DATA + \"match_chemicals/20210501list_matched_POSfeatures_FF_prioritize.xlsx\"\n",
    "c_match = matchChemicals.matchChemicals(p_pos_match, \"POS_match\",pr_out)\n",
    "c_match.loadChem(\"20210501list_matched_POSfeature\")\n",
    "c_match.searchSubstructure(d_substructures)\n",
    "\n",
    "# here unique feature"
   ]
  },
  {
   "cell_type": "markdown",
   "metadata": {},
   "source": [
    "### 3.4. Condensate results from OW/N and FF"
   ]
  },
  {
   "cell_type": "markdown",
   "metadata": {},
   "source": [
    "#### 3.4.1. Criteria used - generalized using a txt file and 3 types of criteria\n",
    "- criteria M apply on main matrix\n",
    "- criteria A apply for annotation, will not impact the all matrix\n",
    "- criteria D apply on the main matrix and remove un selected feature"
   ]
  },
  {
   "cell_type": "code",
   "execution_count": 3,
   "metadata": {},
   "outputs": [],
   "source": [
    "## define file with criteria to apply\n",
    "p_filter_criteria = PR_DATA + \"result_NTA_tofilter/filter_criteria.txt\"\n",
    "\n",
    "## show criteria ##\n",
    "###################\n",
    "f_filter = open(p_filter_criteria, \"r\")\n",
    "criteria = f_filter.read()\n",
    "f_filter.close()"
   ]
  },
  {
   "cell_type": "markdown",
   "metadata": {},
   "source": [
    "### 3.4.2. Run annotation"
   ]
  },
  {
   "cell_type": "code",
   "execution_count": 4,
   "metadata": {},
   "outputs": [
    {
     "name": "stdout",
     "output_type": "stream",
     "text": [
      "CriteriaM1. ['percent_FB <= 50']\n",
      "CriteriaA1. ['higher_intensity_N == 1 OR DF_high_N == 1 OR cv_N/cv_OW >= 1.5 OR sd_N >= AVG sd_N', 'Drug_UCSF_PXYS == 1 OR FRs == 1 OR PFAS == 1 OR Disinfectant == 1 OR E2Up_bin == 1 OR P4Up_bin == 1 OR ERactive_ER_AUC >= 0.01 OR nitroPAH_bin == 1 OR pellizzari_bin == 1 OR phthalate == 1 OR MC == 1 OR MGDev == 1']\n",
      "CriteriaA2. ['higher_intensity_N == 1 OR DF_high_N == 1 OR cv_N/cv_OW >= 1.5 OR sd_N >= AVG sd_N', 'sd_N >= AVG sd_N', 'exposurepred_bin == 1']\n",
      "CriteriaM1. ['percent_FB <= 50']\n",
      "ERROR colname: percent_FB\n",
      "CriteriaA1. ['higher_intensity_N == 1 OR DF_high_N == 1 OR cv_N/cv_OW >= 1.5 OR sd_N >= AVG sd_N', 'Drug_UCSF_PXYS == 1 OR FRs == 1 OR PFAS == 1 OR Disinfectant == 1 OR E2Up_bin == 1 OR P4Up_bin == 1 OR ERactive_ER_AUC >= 0.01 OR nitroPAH_bin == 1 OR pellizzari_bin == 1 OR phthalate == 1 OR MC == 1 OR MGDev == 1']\n",
      "ERROR colname: higher_intensity_N\n",
      "ERROR colname: DF_high_N\n",
      "ERROR colname: sd_N\n",
      "ERROR colname: phthalate\n",
      "CriteriaA2. ['higher_intensity_N == 1 OR DF_high_N == 1 OR cv_N/cv_OW >= 1.5 OR sd_N >= AVG sd_N', 'sd_N >= AVG sd_N', 'exposurepred_bin == 1']\n",
      "ERROR colname: higher_intensity_N\n",
      "ERROR colname: DF_high_N\n",
      "ERROR colname: sd_N\n",
      "ERROR colname: sd_N\n",
      "List_matched_no_filter_neg_FB_07.21  filtered with duplicate feature id: 146\n",
      "List_matched_no_filter_neg_FB_07.21  filtered with unique feature id: 91\n",
      "20210716Neg_features_FF_limited_filtered  filtered with duplicate feature id: 246\n",
      "20210716Neg_features_FF_limited_filtered  filtered with unique feature id: 190\n"
     ]
    },
    {
     "name": "stderr",
     "output_type": "stream",
     "text": [
      "/home/aborrel/miniconda3/envs/QSAR_modeling/lib/python3.9/site-packages/numpy/lib/function_base.py:380: RuntimeWarning: Mean of empty slice.\n",
      "  avg = a.mean(axis)\n",
      "/home/aborrel/miniconda3/envs/QSAR_modeling/lib/python3.9/site-packages/numpy/core/_methods.py:170: RuntimeWarning: invalid value encountered in double_scalars\n",
      "  ret = ret.dtype.type(ret / rcount)\n"
     ]
    }
   ],
   "source": [
    "# run for the negative mode\n",
    "pr_out = pathFolder.createFolder(PR_RESULTS + \"forFragNeg/\")\n",
    "l_p_annotation = [p_neg_nurse, p_neg_FF]\n",
    "\n",
    "c_prepForFrag = prepForFrag.prepForFrag(l_p_annotation, p_filter_criteria, \"NEG\", pr_out)\n",
    "c_prepForFrag.verbose = 1\n",
    "c_prepForFrag.filteredAnnotation()\n",
    "#c_prepForFrag.mergeAnnotationForFrag()"
   ]
  },
  {
   "cell_type": "code",
   "execution_count": 5,
   "metadata": {},
   "outputs": [
    {
     "name": "stdout",
     "output_type": "stream",
     "text": [
      "CriteriaM1. ['percent_FB <= 50']\n",
      "CriteriaA1. ['higher_intensity_N == 1 OR DF_high_N == 1 OR cv_N/cv_OW >= 1.5 OR sd_N >= AVG sd_N', 'Drug_UCSF_PXYS == 1 OR FRs == 1 OR PFAS == 1 OR Disinfectant == 1 OR E2Up_bin == 1 OR P4Up_bin == 1 OR ERactive_ER_AUC >= 0.01 OR nitroPAH_bin == 1 OR pellizzari_bin == 1 OR phthalate == 1 OR MC == 1 OR MGDev == 1']\n",
      "CriteriaA2. ['higher_intensity_N == 1 OR DF_high_N == 1 OR cv_N/cv_OW >= 1.5 OR sd_N >= AVG sd_N', 'sd_N >= AVG sd_N', 'exposurepred_bin == 1']\n",
      "CriteriaM1. ['percent_FB <= 50']\n",
      "ERROR colname: percent_FB\n",
      "CriteriaA1. ['higher_intensity_N == 1 OR DF_high_N == 1 OR cv_N/cv_OW >= 1.5 OR sd_N >= AVG sd_N', 'Drug_UCSF_PXYS == 1 OR FRs == 1 OR PFAS == 1 OR Disinfectant == 1 OR E2Up_bin == 1 OR P4Up_bin == 1 OR ERactive_ER_AUC >= 0.01 OR nitroPAH_bin == 1 OR pellizzari_bin == 1 OR phthalate == 1 OR MC == 1 OR MGDev == 1']\n",
      "ERROR colname: higher_intensity_N\n",
      "ERROR colname: DF_high_N\n",
      "ERROR colname: sd_N\n",
      "ERROR colname: phthalate\n",
      "CriteriaA2. ['higher_intensity_N == 1 OR DF_high_N == 1 OR cv_N/cv_OW >= 1.5 OR sd_N >= AVG sd_N', 'sd_N >= AVG sd_N', 'exposurepred_bin == 1']\n",
      "ERROR colname: higher_intensity_N\n",
      "ERROR colname: DF_high_N\n",
      "ERROR colname: sd_N\n",
      "ERROR colname: sd_N\n",
      "List_matched_no_filter_pos_N_FB_07.21_rar  filtered with duplicate feature id: 168\n",
      "List_matched_no_filter_pos_N_FB_07.21_rar  filtered with unique feature id: 138\n",
      "20210716POS_features_FF_limited_filtered  filtered with duplicate feature id: 107\n",
      "20210716POS_features_FF_limited_filtered  filtered with unique feature id: 93\n"
     ]
    }
   ],
   "source": [
    "# run for positive mode\n",
    "pr_out = pathFolder.createFolder(PR_RESULTS + \"forFragPos/\")\n",
    "l_p_annotation = [p_pos_nurse, p_pos_FF]\n",
    "\n",
    "c_prepForFrag = prepForFrag.prepForFrag(l_p_annotation, p_filter_criteria, \"POS\", pr_out)\n",
    "c_prepForFrag.verbose = 1\n",
    "c_prepForFrag.filteredAnnotation()\n",
    "#c_prepForFrag.mergeAnnotationForFrag()"
   ]
  },
  {
   "cell_type": "markdown",
   "metadata": {},
   "source": [
    "### 3.5. Checkpoint\n",
    "Control the mapping"
   ]
  },
  {
   "cell_type": "code",
   "execution_count": null,
   "metadata": {},
   "outputs": [],
   "source": [
    "#check merge for frag\n",
    "# check comfirmation list\n",
    "pfile1 = \"/mnt/c/Users/AlexandreBorrel/research/SSI/NTA/data/merge_check_12-15-21/all_considered_for_target_N_11.8.21_LH ranking_rar_ETF merge_rar2_AB_ETF_rar_LB.csv\"\n",
    "pfile2 = \"/mnt/c/Users/AlexandreBorrel/research/SSI/NTA/data/merge_check_12-15-21/N_FFConfirmationAndSemitarget_list.csv\"\n",
    "p_out = \"/mnt/c/Users/AlexandreBorrel/research/SSI/NTA/data/merge_check_12-15-21/log_diff.txt\"\n",
    "p_pos_mode = \"/mnt/c/Users/AlexandreBorrel/research/SSI/NTA/data/merge_check_12-15-21/POS_filter_features_3MW_30deltaRT_NurseFFCombined.csv\"\n",
    "p_neg_mode = \"/mnt/c/Users/AlexandreBorrel/research/SSI/NTA/data/merge_check_12-15-21/NEG_filter_features_3MW_30deltaRT_NurseFFCombined.csv\"\n",
    "\n",
    "cdiff = checkTable.checkTable(pfile1, pfile2, p_out)\n",
    "cdiff.loadFile()\n",
    "cdiff.compareCol()\n",
    "cdiff.diffValueInCol(\"DTXSID\", [\"X\"] )#[\"name_original\", \"ID\", \"SMILES\", \"SMILES_cleaned\", \"Molweight_cleaned\", \"ID_raw\"])\n",
    "cdiff.checkDuplicate(pfile=2, col_header=\"DTXSID\", l_merge_col = [\"featureid.x\", \"featureid.y\", \"parent.mass\", \"RTMean\", \"MW\", \"RT\", \"revised.priority.based.on.likelihood.to.work.on.lc.ms...1st.20\", \"revised.priority.based.on.likelihood.to.work.on.lc.ms...2st.20\", \"choose.for.targeted.long.and.older.\", \"POS.mode\",\n",
    "                                                                                 \"NEG.mode\", \"neg.pos.from.JT\", \"LH.rank\", \"LH.notes\", \"DTSC.and.other.chemists..any.concern.with.compatability.with.your.methods..chemical.stability.in.serum\", \n",
    "                                                                                 \"DTSC...has.standards.\", \"Elissia.ID.supplier\", \"Link.to.order\", \"QC.EPA\", \"In.volatile.EPA.list\", \"In.pubchem\", \"Polarizability\", \"LC.MS.compatible..Elissia.\",\n",
    "                                                                                 \"X.1\", \"X.2\", \"mode\", \"name\", \"group\", \"mean_visit1\", \"mean_visit2\", \"mean_visit3\", \"mean_N\", \"mean_OW\"], p_out = \"/mnt/c/Users/AlexandreBorrel/research/SSI/NTA/data/merge_check_12-15-21/log_dup.csv\")\n",
    "\n",
    "cdiff.checkDupAndTrackFeatureOrigin(pfile=2, col_header=\"DTXSID\", l_merge_col = [\"featureid.x\", \"featureid.y\", \"parent.mass\", \"RTMean\", \"MW\", \"RT\", \"revised.priority.based.on.likelihood.to.work.on.lc.ms...1st.20\", \"revised.priority.based.on.likelihood.to.work.on.lc.ms...2st.20\", \"choose.for.targeted.long.and.older.\", \"POS.mode\",\n",
    "                                                                                 \"NEG.mode\", \"neg.pos.from.JT\", \"LH.rank\", \"LH.notes\", \"DTSC.and.other.chemists..any.concern.with.compatability.with.your.methods..chemical.stability.in.serum\", \n",
    "                                                                                 \"DTSC...has.standards.\", \"Elissia.ID.supplier\", \"Link.to.order\", \"QC.EPA\", \"In.volatile.EPA.list\", \"In.pubchem\", \"Polarizability\", \"LC.MS.compatible..Elissia.\",\n",
    "                                                                                 \"X.1\", \"X.2\", \"mode\", \"name\", \"group\", \"mean_visit1\", \"mean_visit2\", \"mean_visit3\", \"mean_N\", \"mean_OW\"], l_features_col=[\"featureid.x\", \"featureid.y\"], d_origin = {\"POS\":toolbox.loadMatrix(p_pos_mode), \"NEG\": toolbox.loadMatrix(p_neg_mode)}, p_out = \"/mnt/c/Users/AlexandreBorrel/research/SSI/NTA/data/merge_check_12-15-21/log_dup_mode.csv\")\n",
    "\n",
    "\n",
    "cdiff.checkIfInfragList(pfile1, check_col = \"DTXSID\", flag_col= \"choose for targeted 1st 20\", d_frag = {\"POS\":toolbox.loadMatrix(p_pos_mode, sep = \",\"), \"NEG\": toolbox.loadMatrix(p_neg_mode, sep = \",\")}, p_out = \"/mnt/c/Users/AlexandreBorrel/research/SSI/NTA/data/merge_check_12-15-21/log_mode.csv\")\n",
    "\n",
    "\n"
   ]
  },
  {
   "cell_type": "markdown",
   "metadata": {},
   "source": [
    "## 4. Step 4: Fragmentation and annotation"
   ]
  },
  {
   "cell_type": "code",
   "execution_count": null,
   "metadata": {},
   "outputs": [],
   "source": [
    "# FROM fragMatch -- need to update\n",
    "\n",
    "\n",
    "\n",
    "# frag match positive node\n",
    "#pr_out = pathFolder.createFolder(PR_RESULTS + \"fragMatch/\")\n",
    "#p_output_frag_pos = PR_DATA + \"resultFrag10-2021/node_attributes_table_pos1.tsv\" #~/Box/SHE lab/WWBC/Data analysis/Non-targeted analysis/2021Fragmentation matching/node_attributes_table_pos1.tsv\n",
    "#p_db_frag_pos = PR_DATA + \"resultFrag10-2021/POS_filter_features_3MW_30deltaRT_NurseFFCombined.csv\" #\"~/Box/SHE lab/WWBC/Data analysis/Non-targeted analysis/2021Fragmentation list to DTSC/POS_filter_features_3MW_30deltaRT_NurseFFCombined.csv\"\n",
    "#p_original_DB = PR_RESULTS + \"WWBC_MS_database_6.30.21_prepForAnotation.csv\"\n",
    "\n",
    "#fragMatch(p_output_frag_pos, p_db_frag_pos, p_original_DB, 1, \"Positive\", pr_out)\n",
    "#fragMatch(p_output_frag_pos, p_db_frag_pos, p_original_DB, 2, \"Positive\", pr_out)\n",
    "#fragMatch(p_output_frag_pos, p_db_frag_pos, p_original_DB, 3, \"Positive\", pr_out)\n",
    "\n",
    "#p_output_frag_neg = PR_DATA + \"resultFrag10-2021/node_attributes_table_neg.tsv\" #~/Box/SHE lab/WWBC/Data analysis/Non-targeted analysis/2021Fragmentation matching/node_attributes_table_pos1.tsv\n",
    "#p_db_frag_neg = PR_DATA + \"resultFrag10-2021/NEG_filter_features_3MW_30deltaRT_NurseFFCombined.csv\" #\"~/Box/SHE lab/WWBC/Data analysis/Non-targeted analysis/2021Fragmentation list to DTSC/POS_filter_features_3MW_30deltaRT_NurseFFCombined.csv\"\n",
    "\n",
    "#fragMatch(p_output_frag_neg, p_db_frag_neg, p_original_DB, 1, \"Negative\", pr_out, 2.0)\n",
    "#fragMatch(p_output_frag_neg, p_db_frag_neg, p_original_DB, 2, \"Negative\", pr_out, 2.0)\n",
    "#fragMatch(p_output_frag_neg, p_db_frag_neg, p_original_DB, 3, \"Negative\", pr_out, 2.0)\n",
    "\n",
    "\n",
    "# comparison output\n",
    "#p_alex = pr_out + \"Negative_Digit-3_deltaMass-2.0.csv\"\n",
    "#p_jess = pr_out + \"NEG_matched_confirmed_3digits.csv\"\n",
    "\n",
    "#checkResult(p_jess, p_alex)\n",
    "\n",
    "\n",
    "#p_alex = pr_out + \"Negative_Digit-2_deltaMass-2.0.csv\"\n",
    "#p_jess = pr_out + \"NEG_matched_confirmed_2digits.csv\"\n",
    "\n",
    "#checkResult(p_jess, p_alex)"
   ]
  },
  {
   "cell_type": "code",
   "execution_count": null,
   "metadata": {},
   "outputs": [],
   "source": [
    "# rematch on DB with the non matching on fragmentation "
   ]
  },
  {
   "cell_type": "markdown",
   "metadata": {},
   "source": [
    "## 5. Step 5: Chemical selection criteria for targeted confirmation and quantification "
   ]
  },
  {
   "cell_type": "markdown",
   "metadata": {},
   "source": [
    "### 5.1. Initialization"
   ]
  },
  {
   "cell_type": "code",
   "execution_count": 1,
   "metadata": {},
   "outputs": [],
   "source": [
    "from toolbox import pathFolder, toolbox\n",
    "from os import path\n",
    "PR_ROOT = path.abspath(\"../../\") + \"/\"\n",
    "PR_DATA = PR_ROOT + \"data/\"\n",
    "PR_RESULTS = pathFolder.createFolder(PR_ROOT + \"results/\")\n",
    "# define out put path for step 5 #\n",
    "##################################\n",
    "pr_data_step5 = PR_DATA + \"toConformFrag_12-21-21/\"\n",
    "\n",
    "# INPUT file #\n",
    "##############\n",
    "p_chem_frag = pr_data_step5 + \"all_considered_for_target_N_11.8.21_LH_ranking_rar_ETF_merge_rar2_AB_ETF_rar_LB.csv\"#List of target chemicals (only need lines 1-42 - 1 n column H or I): https://berkeley.box.com/s/wsqe11x7de9quea15un2ta5n4bmsyval\n",
    "p_nurse_pos = pr_data_step5 + \"List_matched_no_filter_pos_FB_06.21_rar.csv\"#Nurse pos features:https://berkeley.box.com/s/r1b5z7vs9nt8alf6s9yyw2huz1n0n9yv\n",
    "p_nurse_neg = pr_data_step5 + \"List_matched_no_filter_neg_FB_06.21_rar.csv\"#nurse negative features: https://berkeley.box.com/s/a0h4qxl8arbn7wlel6jc92d26v3pd2hr\n",
    "p_FF_neg = pr_data_step5 +  \"20210716Neg_features_FF_limited.csv\"#FF pos features https://berkeley.box.com/s/ot52cqpdc1di4nc01oxg9coqvwftr078\n",
    "p_FF_pos = pr_data_step5 +  \"20210716POS_features_FF_limited.csv\"#FF neg features  https://berkeley.box.com/s/gbd7lvpl5m7mp7i3r5e8tia4y01by8pc\n",
    "p_node_neg = pr_data_step5 +  \"node_attributes_table_neg.tsv\"\n",
    "p_node_pos = pr_data_step5 +  \"node_attributes_table_pos1.tsv\"\n",
    "p_WWBC_db = PR_RESULTS + \"WWBC_MS_database_10.28.21_prepForAnotation.csv\""
   ]
  },
  {
   "cell_type": "markdown",
   "metadata": {},
   "source": [
    "### 5.2. Confirmation fragmentation with mapping\n",
    "In this step we will map the results of fragmentation "
   ]
  },
  {
   "cell_type": "code",
   "execution_count": 2,
   "metadata": {},
   "outputs": [
    {
     "name": "stdout",
     "output_type": "stream",
     "text": [
      "Number confirm frag: 121\n",
      "Number of unique dsstoxid: 41\n",
      "Number of DSSTOX ID without feature ID: 16\n",
      "Drug_UCSF_PXYS: 15\n",
      "Drug_most comon and haz: 5\n",
      "Disinfectant: 2\n",
      "Sesquiterpenoids: 0\n",
      "FRs: 0\n",
      "PFAS: 7\n",
      "exposurepred_bin: 12\n",
      "MC: 4\n",
      "MGDev: 0\n",
      "ERactive_bin: 2\n",
      "E2Up_bin: 7\n",
      "E2UP_priority_level: 3\n",
      "P4Up_bin: 7\n",
      "P4Up_priority_level: 1\n",
      "pesticidemammarytumors_bin: 0\n",
      "VBtoxcast_bin: 25\n",
      "nitroPAH_bin: 0\n",
      "pellizzari_bin: 3\n",
      "UCSF_haz_drug: 12\n",
      "Survey_drug: 14\n",
      "phthalate: 1\n"
     ]
    }
   ],
   "source": [
    "from confirmFrag import confirmFrag\n",
    "l_select_target_chem = [\"revised priority based on likelihood to work on lc/ms - 1st 20\", \"revised priority based on likelihood to work on lc/ms - 2st 20\"]\n",
    "l_col_target_chem = [\"revised priority based on likelihood to work on lc/ms - 1st 20\", \"revised priority based on likelihood to work on lc/ms - 2st 20\", \"CASRN\",\"name_original\",\"formula_original\",\"Elissia.ID.supplier\", \"Link.to.order\", \"QC EPA\", \"In volatile EPA list\", \"In pubchem\", \"Polarizability\", \"LC-MS compatible (Elissia)\", \"ionization\", \"comments\"]\n",
    "d_col_study = {\"nurse\":[\"mz\",\"time\", \"mean_N\", \"mean_OW\", \"mean_FB\"], \"FF\":[\"mz.y\",\"rt.y\", \"mean_allvisit\", \"mean_FB\"]}\n",
    "\n",
    "#l_select_target_chem, l_col_target_chem, l_col_analysis, p_out\n",
    "p_data_confirm = pr_data_step5 + \"mapping_output_1-5-22.csv\"\n",
    "\n",
    "c_confirm_frag = confirmFrag.confirmFrag(p_chem_frag, p_nurse_pos, p_nurse_neg, p_FF_pos, p_FF_neg, p_node_neg, p_node_pos, p_WWBC_db)\n",
    "c_confirm_frag.loadDataSet()\n",
    "c_confirm_frag.mapFeatureToChem(l_select_target_chem, l_col_target_chem, p_data_confirm)\n",
    "\n",
    "## count by chemical classes remap on the database with dtxsid\n",
    "c_confirm_frag.summarizeConfirmFrag()"
   ]
  }
 ],
 "metadata": {
  "interpreter": {
   "hash": "03bfb1f42ede460eccbde88fd81d2ca481857fd6dac08910b4e133e91c6ab786"
  },
  "kernelspec": {
   "display_name": "Python 3.9.6 ('QSAR_modeling')",
   "language": "python",
   "name": "python3"
  },
  "language_info": {
   "codemirror_mode": {
    "name": "ipython",
    "version": 3
   },
   "file_extension": ".py",
   "mimetype": "text/x-python",
   "name": "python",
   "nbconvert_exporter": "python",
   "pygments_lexer": "ipython3",
   "version": "3.9.6"
  },
  "orig_nbformat": 4
 },
 "nbformat": 4,
 "nbformat_minor": 2
}
